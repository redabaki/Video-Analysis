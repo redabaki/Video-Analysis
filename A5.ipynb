{
 "cells": [
  {
   "cell_type": "code",
   "execution_count": 42,
   "metadata": {},
   "outputs": [
    {
     "name": "stdout",
     "output_type": "stream",
     "text": [
      "Defaulting to user installation because normal site-packages is not writeable\n",
      "Requirement already satisfied: numpy in /Library/Frameworks/Python.framework/Versions/3.12/lib/python3.12/site-packages (1.26.2)\n",
      "\u001b[33mWARNING: Error parsing dependencies of textract: .* suffix can only be used with `==` or `!=` operators\n",
      "    extract-msg (<=0.29.*)\n",
      "                 ~~~~~~~^\u001b[0m\u001b[33m\n",
      "\u001b[0mDefaulting to user installation because normal site-packages is not writeable\n",
      "Requirement already satisfied: opencv-python in /Users/karimelhusseini/Library/Python/3.12/lib/python/site-packages (4.10.0.84)\n",
      "Requirement already satisfied: numpy>=1.21.2 in /Library/Frameworks/Python.framework/Versions/3.12/lib/python3.12/site-packages (from opencv-python) (1.26.2)\n",
      "\u001b[33mWARNING: Error parsing dependencies of textract: .* suffix can only be used with `==` or `!=` operators\n",
      "    extract-msg (<=0.29.*)\n",
      "                 ~~~~~~~^\u001b[0m\u001b[33m\n",
      "\u001b[0mDefaulting to user installation because normal site-packages is not writeable\n",
      "Requirement already satisfied: matplotlib in /Library/Frameworks/Python.framework/Versions/3.12/lib/python3.12/site-packages (3.8.2)\n",
      "Requirement already satisfied: contourpy>=1.0.1 in /Library/Frameworks/Python.framework/Versions/3.12/lib/python3.12/site-packages (from matplotlib) (1.2.0)\n",
      "Requirement already satisfied: cycler>=0.10 in /Library/Frameworks/Python.framework/Versions/3.12/lib/python3.12/site-packages (from matplotlib) (0.12.1)\n",
      "Requirement already satisfied: fonttools>=4.22.0 in /Library/Frameworks/Python.framework/Versions/3.12/lib/python3.12/site-packages (from matplotlib) (4.45.0)\n",
      "Requirement already satisfied: kiwisolver>=1.3.1 in /Library/Frameworks/Python.framework/Versions/3.12/lib/python3.12/site-packages (from matplotlib) (1.4.5)\n",
      "Requirement already satisfied: numpy<2,>=1.21 in /Library/Frameworks/Python.framework/Versions/3.12/lib/python3.12/site-packages (from matplotlib) (1.26.2)\n",
      "Requirement already satisfied: packaging>=20.0 in /Users/karimelhusseini/Library/Python/3.12/lib/python/site-packages (from matplotlib) (24.1)\n",
      "Requirement already satisfied: pillow>=8 in /Users/karimelhusseini/Library/Python/3.12/lib/python/site-packages (from matplotlib) (11.0.0)\n",
      "Requirement already satisfied: pyparsing>=2.3.1 in /Library/Frameworks/Python.framework/Versions/3.12/lib/python3.12/site-packages (from matplotlib) (3.1.1)\n",
      "Requirement already satisfied: python-dateutil>=2.7 in /Users/karimelhusseini/Library/Python/3.12/lib/python/site-packages (from matplotlib) (2.9.0.post0)\n",
      "Requirement already satisfied: six>=1.5 in /Users/karimelhusseini/Library/Python/3.12/lib/python/site-packages (from python-dateutil>=2.7->matplotlib) (1.16.0)\n",
      "\u001b[33mWARNING: Error parsing dependencies of textract: .* suffix can only be used with `==` or `!=` operators\n",
      "    extract-msg (<=0.29.*)\n",
      "                 ~~~~~~~^\u001b[0m\u001b[33m\n",
      "\u001b[0mDefaulting to user installation because normal site-packages is not writeable\n",
      "Requirement already satisfied: torch in /Users/karimelhusseini/Library/Python/3.12/lib/python/site-packages (2.3.1)\n",
      "Requirement already satisfied: filelock in /Users/karimelhusseini/Library/Python/3.12/lib/python/site-packages (from torch) (3.15.4)\n",
      "Requirement already satisfied: typing-extensions>=4.8.0 in /Library/Frameworks/Python.framework/Versions/3.12/lib/python3.12/site-packages (from torch) (4.9.0)\n",
      "Requirement already satisfied: sympy in /Users/karimelhusseini/Library/Python/3.12/lib/python/site-packages (from torch) (1.13.1)\n",
      "Requirement already satisfied: networkx in /Users/karimelhusseini/Library/Python/3.12/lib/python/site-packages (from torch) (3.3)\n",
      "Requirement already satisfied: jinja2 in /Users/karimelhusseini/Library/Python/3.12/lib/python/site-packages (from torch) (3.1.4)\n",
      "Requirement already satisfied: fsspec in /Users/karimelhusseini/Library/Python/3.12/lib/python/site-packages (from torch) (2024.6.1)\n",
      "Requirement already satisfied: MarkupSafe>=2.0 in /Users/karimelhusseini/Library/Python/3.12/lib/python/site-packages (from jinja2->torch) (2.1.5)\n",
      "Requirement already satisfied: mpmath<1.4,>=1.1.0 in /Users/karimelhusseini/Library/Python/3.12/lib/python/site-packages (from sympy->torch) (1.3.0)\n",
      "\u001b[33mWARNING: Error parsing dependencies of textract: .* suffix can only be used with `==` or `!=` operators\n",
      "    extract-msg (<=0.29.*)\n",
      "                 ~~~~~~~^\u001b[0m\u001b[33m\n",
      "\u001b[0mDefaulting to user installation because normal site-packages is not writeable\n",
      "Requirement already satisfied: tensorflow in /Users/karimelhusseini/Library/Python/3.12/lib/python/site-packages (2.18.0)\n",
      "Requirement already satisfied: absl-py>=1.0.0 in /Users/karimelhusseini/Library/Python/3.12/lib/python/site-packages (from tensorflow) (2.1.0)\n",
      "Requirement already satisfied: astunparse>=1.6.0 in /Users/karimelhusseini/Library/Python/3.12/lib/python/site-packages (from tensorflow) (1.6.3)\n",
      "Requirement already satisfied: flatbuffers>=24.3.25 in /Users/karimelhusseini/Library/Python/3.12/lib/python/site-packages (from tensorflow) (24.3.25)\n",
      "Requirement already satisfied: gast!=0.5.0,!=0.5.1,!=0.5.2,>=0.2.1 in /Users/karimelhusseini/Library/Python/3.12/lib/python/site-packages (from tensorflow) (0.6.0)\n",
      "Requirement already satisfied: google-pasta>=0.1.1 in /Users/karimelhusseini/Library/Python/3.12/lib/python/site-packages (from tensorflow) (0.2.0)\n",
      "Requirement already satisfied: libclang>=13.0.0 in /Users/karimelhusseini/Library/Python/3.12/lib/python/site-packages (from tensorflow) (18.1.1)\n",
      "Requirement already satisfied: opt-einsum>=2.3.2 in /Users/karimelhusseini/Library/Python/3.12/lib/python/site-packages (from tensorflow) (3.4.0)\n",
      "Requirement already satisfied: packaging in /Users/karimelhusseini/Library/Python/3.12/lib/python/site-packages (from tensorflow) (24.1)\n",
      "Requirement already satisfied: protobuf!=4.21.0,!=4.21.1,!=4.21.2,!=4.21.3,!=4.21.4,!=4.21.5,<6.0.0dev,>=3.20.3 in /Users/karimelhusseini/Library/Python/3.12/lib/python/site-packages (from tensorflow) (5.28.3)\n",
      "Requirement already satisfied: requests<3,>=2.21.0 in /Users/karimelhusseini/Library/Python/3.12/lib/python/site-packages (from tensorflow) (2.32.3)\n",
      "Requirement already satisfied: setuptools in /Users/karimelhusseini/Library/Python/3.12/lib/python/site-packages (from tensorflow) (75.3.0)\n",
      "Requirement already satisfied: six>=1.12.0 in /Users/karimelhusseini/Library/Python/3.12/lib/python/site-packages (from tensorflow) (1.16.0)\n",
      "Requirement already satisfied: termcolor>=1.1.0 in /Users/karimelhusseini/Library/Python/3.12/lib/python/site-packages (from tensorflow) (2.5.0)\n",
      "Requirement already satisfied: typing-extensions>=3.6.6 in /Library/Frameworks/Python.framework/Versions/3.12/lib/python3.12/site-packages (from tensorflow) (4.9.0)\n",
      "Requirement already satisfied: wrapt>=1.11.0 in /Users/karimelhusseini/Library/Python/3.12/lib/python/site-packages (from tensorflow) (1.16.0)\n",
      "Requirement already satisfied: grpcio<2.0,>=1.24.3 in /Users/karimelhusseini/Library/Python/3.12/lib/python/site-packages (from tensorflow) (1.67.1)\n",
      "Requirement already satisfied: tensorboard<2.19,>=2.18 in /Users/karimelhusseini/Library/Python/3.12/lib/python/site-packages (from tensorflow) (2.18.0)\n",
      "Requirement already satisfied: keras>=3.5.0 in /Users/karimelhusseini/Library/Python/3.12/lib/python/site-packages (from tensorflow) (3.6.0)\n",
      "Requirement already satisfied: numpy<2.1.0,>=1.26.0 in /Library/Frameworks/Python.framework/Versions/3.12/lib/python3.12/site-packages (from tensorflow) (1.26.2)\n",
      "Requirement already satisfied: h5py>=3.11.0 in /Users/karimelhusseini/Library/Python/3.12/lib/python/site-packages (from tensorflow) (3.12.1)\n",
      "Requirement already satisfied: ml-dtypes<0.5.0,>=0.4.0 in /Users/karimelhusseini/Library/Python/3.12/lib/python/site-packages (from tensorflow) (0.4.1)\n",
      "Requirement already satisfied: wheel<1.0,>=0.23.0 in /Users/karimelhusseini/Library/Python/3.12/lib/python/site-packages (from astunparse>=1.6.0->tensorflow) (0.45.1)\n",
      "Requirement already satisfied: rich in /Users/karimelhusseini/Library/Python/3.12/lib/python/site-packages (from keras>=3.5.0->tensorflow) (13.7.1)\n",
      "Requirement already satisfied: namex in /Users/karimelhusseini/Library/Python/3.12/lib/python/site-packages (from keras>=3.5.0->tensorflow) (0.0.8)\n",
      "Requirement already satisfied: optree in /Users/karimelhusseini/Library/Python/3.12/lib/python/site-packages (from keras>=3.5.0->tensorflow) (0.13.1)\n",
      "Requirement already satisfied: charset-normalizer<4,>=2 in /Users/karimelhusseini/Library/Python/3.12/lib/python/site-packages (from requests<3,>=2.21.0->tensorflow) (3.3.2)\n",
      "Requirement already satisfied: idna<4,>=2.5 in /Library/Frameworks/Python.framework/Versions/3.12/lib/python3.12/site-packages (from requests<3,>=2.21.0->tensorflow) (3.6)\n",
      "Requirement already satisfied: urllib3<3,>=1.21.1 in /Users/karimelhusseini/Library/Python/3.12/lib/python/site-packages (from requests<3,>=2.21.0->tensorflow) (2.2.2)\n",
      "Requirement already satisfied: certifi>=2017.4.17 in /Users/karimelhusseini/Library/Python/3.12/lib/python/site-packages (from requests<3,>=2.21.0->tensorflow) (2024.8.30)\n",
      "Requirement already satisfied: markdown>=2.6.8 in /Users/karimelhusseini/Library/Python/3.12/lib/python/site-packages (from tensorboard<2.19,>=2.18->tensorflow) (3.7)\n",
      "Requirement already satisfied: tensorboard-data-server<0.8.0,>=0.7.0 in /Users/karimelhusseini/Library/Python/3.12/lib/python/site-packages (from tensorboard<2.19,>=2.18->tensorflow) (0.7.2)\n",
      "Requirement already satisfied: werkzeug>=1.0.1 in /Users/karimelhusseini/Library/Python/3.12/lib/python/site-packages (from tensorboard<2.19,>=2.18->tensorflow) (3.0.3)\n",
      "Requirement already satisfied: MarkupSafe>=2.1.1 in /Users/karimelhusseini/Library/Python/3.12/lib/python/site-packages (from werkzeug>=1.0.1->tensorboard<2.19,>=2.18->tensorflow) (2.1.5)\n",
      "Requirement already satisfied: markdown-it-py>=2.2.0 in /Users/karimelhusseini/Library/Python/3.12/lib/python/site-packages (from rich->keras>=3.5.0->tensorflow) (3.0.0)\n",
      "Requirement already satisfied: pygments<3.0.0,>=2.13.0 in /Users/karimelhusseini/Library/Python/3.12/lib/python/site-packages (from rich->keras>=3.5.0->tensorflow) (2.18.0)\n",
      "Requirement already satisfied: mdurl~=0.1 in /Users/karimelhusseini/Library/Python/3.12/lib/python/site-packages (from markdown-it-py>=2.2.0->rich->keras>=3.5.0->tensorflow) (0.1.2)\n",
      "\u001b[33mWARNING: Error parsing dependencies of textract: .* suffix can only be used with `==` or `!=` operators\n",
      "    extract-msg (<=0.29.*)\n",
      "                 ~~~~~~~^\u001b[0m\u001b[33m\n",
      "\u001b[0mDefaulting to user installation because normal site-packages is not writeable\n",
      "Requirement already satisfied: scikit-learn in /Users/karimelhusseini/Library/Python/3.12/lib/python/site-packages (1.5.2)\n",
      "Requirement already satisfied: numpy>=1.19.5 in /Library/Frameworks/Python.framework/Versions/3.12/lib/python3.12/site-packages (from scikit-learn) (1.26.2)\n",
      "Requirement already satisfied: scipy>=1.6.0 in /Users/karimelhusseini/Library/Python/3.12/lib/python/site-packages (from scikit-learn) (1.14.0)\n",
      "Requirement already satisfied: joblib>=1.2.0 in /Users/karimelhusseini/Library/Python/3.12/lib/python/site-packages (from scikit-learn) (1.4.2)\n",
      "Requirement already satisfied: threadpoolctl>=3.1.0 in /Users/karimelhusseini/Library/Python/3.12/lib/python/site-packages (from scikit-learn) (3.5.0)\n",
      "\u001b[33mWARNING: Error parsing dependencies of textract: .* suffix can only be used with `==` or `!=` operators\n",
      "    extract-msg (<=0.29.*)\n",
      "                 ~~~~~~~^\u001b[0m\u001b[33m\n",
      "\u001b[0m"
     ]
    }
   ],
   "source": [
    "# Pip installs for libraries\n",
    "!pip install numpy\n",
    "!pip install opencv-python\n",
    "!pip install matplotlib\n",
    "!pip install torch\n",
    "!pip install tensorflow\n",
    "!pip install scikit-learn"
   ]
  },
  {
   "cell_type": "code",
   "execution_count": 43,
   "metadata": {},
   "outputs": [],
   "source": [
    "import numpy as np\n",
    "import matplotlib.pyplot as plt\n",
    "import cv2\n",
    "import torch\n",
    "import tensorflow as tf"
   ]
  },
  {
   "cell_type": "code",
   "execution_count": 44,
   "metadata": {},
   "outputs": [],
   "source": [
    "import os\n",
    "path = os.path.expanduser(\"~/Desktop/A5-ECSE415/\")"
   ]
  },
  {
   "cell_type": "markdown",
   "metadata": {},
   "source": [
    "# 1 Data Preparation"
   ]
  },
  {
   "cell_type": "code",
   "execution_count": 45,
   "metadata": {},
   "outputs": [
    {
     "name": "stdout",
     "output_type": "stream",
     "text": [
      "Video saved to /Users/karimelhusseini/Desktop/A5-ECSE415/task1_input.mp4\n"
     ]
    }
   ],
   "source": [
    "def frames_to_video(frames_path, output_path, fps):\n",
    "    # Get list of all frame files sorted by filename\n",
    "    frame_files = sorted([os.path.join(frames_path, f) for f in os.listdir(frames_path) if f.endswith('.jpg')])\n",
    "    # Read the first frame to get the dimensions\n",
    "    first_frame = cv2.imread(frame_files[0])\n",
    "    height, width, _ = first_frame.shape\n",
    "    # Define video writer\n",
    "    fourcc = cv2.VideoWriter_fourcc(*'mp4v')  # Use 'mp4v' for .mp4 files\n",
    "    video_writer = cv2.VideoWriter(output_path, fourcc, fps, (width, height))\n",
    "    # Loop through and add each frame\n",
    "    for frame_file in frame_files:\n",
    "        frame = cv2.imread(frame_file)\n",
    "        video_writer.write(frame)\n",
    "    # Release video writer\n",
    "    video_writer.release()\n",
    "    \n",
    "frames_path = path + \"Tracking/Task1/images/\"\n",
    "\n",
    "# Convert frames to video\n",
    "frames_to_video(frames_path, path + \"task1_input.mp4\", 14)\n",
    "\n",
    "print(\"Video saved to\", path + \"task1_input.mp4\")"
   ]
  },
  {
   "cell_type": "markdown",
   "metadata": {},
   "source": [
    "# 2 Model Implementation"
   ]
  },
  {
   "cell_type": "code",
   "execution_count": 46,
   "metadata": {},
   "outputs": [
    {
     "name": "stdout",
     "output_type": "stream",
     "text": [
      "Defaulting to user installation because normal site-packages is not writeable\n",
      "Requirement already satisfied: gitpython>=3.1.30 in /Users/karimelhusseini/Library/Python/3.12/lib/python/site-packages (from -r https://raw.githubusercontent.com/ultralytics/yolov5/master/requirements.txt (line 5)) (3.1.43)\n",
      "Requirement already satisfied: matplotlib>=3.3 in /Library/Frameworks/Python.framework/Versions/3.12/lib/python3.12/site-packages (from -r https://raw.githubusercontent.com/ultralytics/yolov5/master/requirements.txt (line 6)) (3.8.2)\n",
      "Requirement already satisfied: numpy>=1.23.5 in /Library/Frameworks/Python.framework/Versions/3.12/lib/python3.12/site-packages (from -r https://raw.githubusercontent.com/ultralytics/yolov5/master/requirements.txt (line 7)) (1.26.2)\n",
      "Requirement already satisfied: opencv-python>=4.1.1 in /Users/karimelhusseini/Library/Python/3.12/lib/python/site-packages (from -r https://raw.githubusercontent.com/ultralytics/yolov5/master/requirements.txt (line 8)) (4.10.0.84)\n",
      "Requirement already satisfied: pillow>=10.3.0 in /Users/karimelhusseini/Library/Python/3.12/lib/python/site-packages (from -r https://raw.githubusercontent.com/ultralytics/yolov5/master/requirements.txt (line 9)) (11.0.0)\n",
      "Requirement already satisfied: psutil in /Users/karimelhusseini/Library/Python/3.12/lib/python/site-packages (from -r https://raw.githubusercontent.com/ultralytics/yolov5/master/requirements.txt (line 10)) (6.0.0)\n",
      "Requirement already satisfied: PyYAML>=5.3.1 in /Users/karimelhusseini/Library/Python/3.12/lib/python/site-packages (from -r https://raw.githubusercontent.com/ultralytics/yolov5/master/requirements.txt (line 11)) (6.0.1)\n",
      "Requirement already satisfied: requests>=2.32.2 in /Users/karimelhusseini/Library/Python/3.12/lib/python/site-packages (from -r https://raw.githubusercontent.com/ultralytics/yolov5/master/requirements.txt (line 12)) (2.32.3)\n",
      "Requirement already satisfied: scipy>=1.4.1 in /Users/karimelhusseini/Library/Python/3.12/lib/python/site-packages (from -r https://raw.githubusercontent.com/ultralytics/yolov5/master/requirements.txt (line 13)) (1.14.0)\n",
      "Requirement already satisfied: thop>=0.1.1 in /Users/karimelhusseini/Library/Python/3.12/lib/python/site-packages (from -r https://raw.githubusercontent.com/ultralytics/yolov5/master/requirements.txt (line 14)) (0.1.1.post2209072238)\n",
      "Requirement already satisfied: torch>=1.8.0 in /Users/karimelhusseini/Library/Python/3.12/lib/python/site-packages (from -r https://raw.githubusercontent.com/ultralytics/yolov5/master/requirements.txt (line 15)) (2.3.1)\n",
      "Requirement already satisfied: torchvision>=0.9.0 in /Users/karimelhusseini/Library/Python/3.12/lib/python/site-packages (from -r https://raw.githubusercontent.com/ultralytics/yolov5/master/requirements.txt (line 16)) (0.18.1)\n",
      "Requirement already satisfied: tqdm>=4.66.3 in /Users/karimelhusseini/Library/Python/3.12/lib/python/site-packages (from -r https://raw.githubusercontent.com/ultralytics/yolov5/master/requirements.txt (line 17)) (4.66.6)\n",
      "Requirement already satisfied: ultralytics>=8.2.34 in /Users/karimelhusseini/Library/Python/3.12/lib/python/site-packages (from -r https://raw.githubusercontent.com/ultralytics/yolov5/master/requirements.txt (line 18)) (8.3.27)\n",
      "Requirement already satisfied: pandas>=1.1.4 in /Users/karimelhusseini/Library/Python/3.12/lib/python/site-packages (from -r https://raw.githubusercontent.com/ultralytics/yolov5/master/requirements.txt (line 27)) (2.1.3)\n",
      "Requirement already satisfied: seaborn>=0.11.0 in /Users/karimelhusseini/Library/Python/3.12/lib/python/site-packages (from -r https://raw.githubusercontent.com/ultralytics/yolov5/master/requirements.txt (line 28)) (0.13.2)\n",
      "Requirement already satisfied: setuptools>=70.0.0 in /Users/karimelhusseini/Library/Python/3.12/lib/python/site-packages (from -r https://raw.githubusercontent.com/ultralytics/yolov5/master/requirements.txt (line 42)) (75.3.0)\n",
      "Requirement already satisfied: gitdb<5,>=4.0.1 in /Users/karimelhusseini/Library/Python/3.12/lib/python/site-packages (from gitpython>=3.1.30->-r https://raw.githubusercontent.com/ultralytics/yolov5/master/requirements.txt (line 5)) (4.0.11)\n",
      "Requirement already satisfied: contourpy>=1.0.1 in /Library/Frameworks/Python.framework/Versions/3.12/lib/python3.12/site-packages (from matplotlib>=3.3->-r https://raw.githubusercontent.com/ultralytics/yolov5/master/requirements.txt (line 6)) (1.2.0)\n",
      "Requirement already satisfied: cycler>=0.10 in /Library/Frameworks/Python.framework/Versions/3.12/lib/python3.12/site-packages (from matplotlib>=3.3->-r https://raw.githubusercontent.com/ultralytics/yolov5/master/requirements.txt (line 6)) (0.12.1)\n",
      "Requirement already satisfied: fonttools>=4.22.0 in /Library/Frameworks/Python.framework/Versions/3.12/lib/python3.12/site-packages (from matplotlib>=3.3->-r https://raw.githubusercontent.com/ultralytics/yolov5/master/requirements.txt (line 6)) (4.45.0)\n",
      "Requirement already satisfied: kiwisolver>=1.3.1 in /Library/Frameworks/Python.framework/Versions/3.12/lib/python3.12/site-packages (from matplotlib>=3.3->-r https://raw.githubusercontent.com/ultralytics/yolov5/master/requirements.txt (line 6)) (1.4.5)\n",
      "Requirement already satisfied: packaging>=20.0 in /Users/karimelhusseini/Library/Python/3.12/lib/python/site-packages (from matplotlib>=3.3->-r https://raw.githubusercontent.com/ultralytics/yolov5/master/requirements.txt (line 6)) (24.1)\n",
      "Requirement already satisfied: pyparsing>=2.3.1 in /Library/Frameworks/Python.framework/Versions/3.12/lib/python3.12/site-packages (from matplotlib>=3.3->-r https://raw.githubusercontent.com/ultralytics/yolov5/master/requirements.txt (line 6)) (3.1.1)\n",
      "Requirement already satisfied: python-dateutil>=2.7 in /Users/karimelhusseini/Library/Python/3.12/lib/python/site-packages (from matplotlib>=3.3->-r https://raw.githubusercontent.com/ultralytics/yolov5/master/requirements.txt (line 6)) (2.9.0.post0)\n",
      "Requirement already satisfied: charset-normalizer<4,>=2 in /Users/karimelhusseini/Library/Python/3.12/lib/python/site-packages (from requests>=2.32.2->-r https://raw.githubusercontent.com/ultralytics/yolov5/master/requirements.txt (line 12)) (3.3.2)\n",
      "Requirement already satisfied: idna<4,>=2.5 in /Library/Frameworks/Python.framework/Versions/3.12/lib/python3.12/site-packages (from requests>=2.32.2->-r https://raw.githubusercontent.com/ultralytics/yolov5/master/requirements.txt (line 12)) (3.6)\n",
      "Requirement already satisfied: urllib3<3,>=1.21.1 in /Users/karimelhusseini/Library/Python/3.12/lib/python/site-packages (from requests>=2.32.2->-r https://raw.githubusercontent.com/ultralytics/yolov5/master/requirements.txt (line 12)) (2.2.2)\n",
      "Requirement already satisfied: certifi>=2017.4.17 in /Users/karimelhusseini/Library/Python/3.12/lib/python/site-packages (from requests>=2.32.2->-r https://raw.githubusercontent.com/ultralytics/yolov5/master/requirements.txt (line 12)) (2024.8.30)\n",
      "Requirement already satisfied: filelock in /Users/karimelhusseini/Library/Python/3.12/lib/python/site-packages (from torch>=1.8.0->-r https://raw.githubusercontent.com/ultralytics/yolov5/master/requirements.txt (line 15)) (3.15.4)\n",
      "Requirement already satisfied: typing-extensions>=4.8.0 in /Library/Frameworks/Python.framework/Versions/3.12/lib/python3.12/site-packages (from torch>=1.8.0->-r https://raw.githubusercontent.com/ultralytics/yolov5/master/requirements.txt (line 15)) (4.9.0)\n",
      "Requirement already satisfied: sympy in /Users/karimelhusseini/Library/Python/3.12/lib/python/site-packages (from torch>=1.8.0->-r https://raw.githubusercontent.com/ultralytics/yolov5/master/requirements.txt (line 15)) (1.13.1)\n",
      "Requirement already satisfied: networkx in /Users/karimelhusseini/Library/Python/3.12/lib/python/site-packages (from torch>=1.8.0->-r https://raw.githubusercontent.com/ultralytics/yolov5/master/requirements.txt (line 15)) (3.3)\n",
      "Requirement already satisfied: jinja2 in /Users/karimelhusseini/Library/Python/3.12/lib/python/site-packages (from torch>=1.8.0->-r https://raw.githubusercontent.com/ultralytics/yolov5/master/requirements.txt (line 15)) (3.1.4)\n",
      "Requirement already satisfied: fsspec in /Users/karimelhusseini/Library/Python/3.12/lib/python/site-packages (from torch>=1.8.0->-r https://raw.githubusercontent.com/ultralytics/yolov5/master/requirements.txt (line 15)) (2024.6.1)\n",
      "Requirement already satisfied: py-cpuinfo in /Users/karimelhusseini/Library/Python/3.12/lib/python/site-packages (from ultralytics>=8.2.34->-r https://raw.githubusercontent.com/ultralytics/yolov5/master/requirements.txt (line 18)) (9.0.0)\n",
      "Requirement already satisfied: ultralytics-thop>=2.0.0 in /Users/karimelhusseini/Library/Python/3.12/lib/python/site-packages (from ultralytics>=8.2.34->-r https://raw.githubusercontent.com/ultralytics/yolov5/master/requirements.txt (line 18)) (2.0.10)\n",
      "Requirement already satisfied: pytz>=2020.1 in /Users/karimelhusseini/Library/Python/3.12/lib/python/site-packages (from pandas>=1.1.4->-r https://raw.githubusercontent.com/ultralytics/yolov5/master/requirements.txt (line 27)) (2024.2)\n",
      "Requirement already satisfied: tzdata>=2022.1 in /Users/karimelhusseini/Library/Python/3.12/lib/python/site-packages (from pandas>=1.1.4->-r https://raw.githubusercontent.com/ultralytics/yolov5/master/requirements.txt (line 27)) (2023.3)\n",
      "Requirement already satisfied: smmap<6,>=3.0.1 in /Users/karimelhusseini/Library/Python/3.12/lib/python/site-packages (from gitdb<5,>=4.0.1->gitpython>=3.1.30->-r https://raw.githubusercontent.com/ultralytics/yolov5/master/requirements.txt (line 5)) (5.0.1)\n",
      "Requirement already satisfied: six>=1.5 in /Users/karimelhusseini/Library/Python/3.12/lib/python/site-packages (from python-dateutil>=2.7->matplotlib>=3.3->-r https://raw.githubusercontent.com/ultralytics/yolov5/master/requirements.txt (line 6)) (1.16.0)\n",
      "Requirement already satisfied: MarkupSafe>=2.0 in /Users/karimelhusseini/Library/Python/3.12/lib/python/site-packages (from jinja2->torch>=1.8.0->-r https://raw.githubusercontent.com/ultralytics/yolov5/master/requirements.txt (line 15)) (2.1.5)\n",
      "Requirement already satisfied: mpmath<1.4,>=1.1.0 in /Users/karimelhusseini/Library/Python/3.12/lib/python/site-packages (from sympy->torch>=1.8.0->-r https://raw.githubusercontent.com/ultralytics/yolov5/master/requirements.txt (line 15)) (1.3.0)\n",
      "\u001b[33mWARNING: Error parsing dependencies of textract: .* suffix can only be used with `==` or `!=` operators\n",
      "    extract-msg (<=0.29.*)\n",
      "                 ~~~~~~~^\u001b[0m\u001b[33m\n",
      "\u001b[0m"
     ]
    }
   ],
   "source": [
    "!pip install -r https://raw.githubusercontent.com/ultralytics/yolov5/master/requirements.txt"
   ]
  },
  {
   "cell_type": "code",
   "execution_count": 47,
   "metadata": {},
   "outputs": [],
   "source": [
    "#Necessary imports\n",
    "import sys\n",
    "import glob\n",
    "import time"
   ]
  },
  {
   "cell_type": "markdown",
   "metadata": {},
   "source": [
    "Manually clone ultralytics yolov5"
   ]
  },
  {
   "cell_type": "code",
   "execution_count": 48,
   "metadata": {},
   "outputs": [
    {
     "name": "stdout",
     "output_type": "stream",
     "text": [
      "Cloning into 'yolov5'...\n",
      "remote: Enumerating objects: 17067, done.\u001b[K\n",
      "remote: Counting objects: 100% (45/45), done.\u001b[K\n",
      "remote: Compressing objects: 100% (33/33), done.\u001b[K\n",
      "remote: Total 17067 (delta 24), reused 27 (delta 12), pack-reused 17022 (from 1)\u001b[K\n",
      "Receiving objects: 100% (17067/17067), 15.69 MiB | 35.62 MiB/s, done.\n",
      "Resolving deltas: 100% (11718/11718), done.\n"
     ]
    }
   ],
   "source": [
    "!git clone https://github.com/ultralytics/yolov5.git"
   ]
  },
  {
   "cell_type": "code",
   "execution_count": 49,
   "metadata": {},
   "outputs": [],
   "source": [
    "# Creating a class for object detection which plots boxes and scores frames in addition to detecting an \n",
    "# object\n",
    "\n",
    "class YoloDetector():\n",
    "\n",
    "    def __init__(self):\n",
    "        #Using yolov5s for our purposes of object detection, you may use a larger model\n",
    "        self.model = torch.hub.load('./yolov5', 'yolov5s', pretrained = True, source='local')\n",
    "        self.classes = self.model.names\n",
    "        self.device = 'cuda' if torch.cuda.is_available() else 'cpu'\n",
    "        print('Using Device: ', self.device)\n",
    "    \n",
    "    def score_frame(self, frame):\n",
    "        self.model.to(self.device)\n",
    "        downscale_factor = 2\n",
    "        width = int(frame.shape[1] / downscale_factor)\n",
    "        height = int(frame.shape[0] / downscale_factor)\n",
    "        frame = cv2.resize(frame, (width, height))\n",
    "\n",
    "        results = self.model(frame)\n",
    "\n",
    "        labels, cord = results.xyxyn[0][:, -1], results.xyxyn[0][:, :-1]\n",
    "\n",
    "        return labels, cord\n",
    "    \n",
    "    def class_to_label(self, x):\n",
    "        return self.classes[int(x)]\n",
    "    \n",
    "    def plot_boxes(self, results, frame, height, width, confidence=0.3):\n",
    "\n",
    "        labels, cord = results\n",
    "        detections = []\n",
    "\n",
    "        n = len(labels)\n",
    "        x_shape, y_shape = width, height\n",
    "\n",
    "        for i in range(n):\n",
    "            row = cord[i]\n",
    "\n",
    "            if row[4]>=confidence:\n",
    "                x1, y1, x2, y2 = int(row[0]*x_shape), int(row[1]*y_shape), int(row[2]*x_shape), int(row[3]*y_shape)\n",
    "                \n",
    "                if self.class_to_label(labels[i]) == 'person':\n",
    "\n",
    "                    x_center = x1 + (x2-x1)\n",
    "                    y_center = y1 + ((y2-y1) / 2)\n",
    "\n",
    "                    tlwh = np.asarray([x1, y1, int(x2-x1), int(y2-y1)], dtype = np.float32)\n",
    "                    confidence = float(row[4].item())\n",
    "                    feature = 'person'\n",
    "\n",
    "                    detections.append(([x1, y1, int(x2-x1), int(y2-y1)], row[4].item(), 'person'))\n",
    "        \n",
    "        return frame, detections"
   ]
  },
  {
   "cell_type": "code",
   "execution_count": 50,
   "metadata": {},
   "outputs": [
    {
     "name": "stderr",
     "output_type": "stream",
     "text": [
      "YOLOv5 🚀 v7.0-388-g882c35fc Python-3.12.0 torch-2.3.1 CPU\n",
      "\n",
      "Downloading https://github.com/ultralytics/yolov5/releases/download/v7.0/yolov5s.pt to yolov5s.pt...\n",
      "ERROR: <urlopen error [SSL: CERTIFICATE_VERIFY_FAILED] certificate verify failed: unable to get local issuer certificate (_ssl.c:1000)>\n",
      "Re-attempting https://github.com/ultralytics/yolov5/releases/download/v7.0/yolov5s.pt to yolov5s.pt...\n",
      "######################################################################## 100.0%########################                                   55.1%\n",
      "\n",
      "Fusing layers... \n",
      "YOLOv5s summary: 213 layers, 7225885 parameters, 0 gradients, 16.4 GFLOPs\n",
      "Adding AutoShape... \n"
     ]
    },
    {
     "name": "stdout",
     "output_type": "stream",
     "text": [
      "Using Device:  cpu\n"
     ]
    }
   ],
   "source": [
    "cap = cv2.VideoCapture(path + \"task1_input.mp4\")\n",
    "\n",
    "frame_width = int(cap.get(cv2.CAP_PROP_FRAME_WIDTH))\n",
    "frame_height = int(cap.get(cv2.CAP_PROP_FRAME_HEIGHT))\n",
    "fps = int(cap.get(cv2.CAP_PROP_FPS))\n",
    "out = cv2.VideoWriter(path+'task1.mp4', cv2.VideoWriter_fourcc(*'mp4v'), fps, (frame_width, frame_height))\n",
    "\n",
    "\n",
    "#Initializing the detection class\n",
    "detector = YoloDetector()"
   ]
  },
  {
   "cell_type": "code",
   "execution_count": 51,
   "metadata": {},
   "outputs": [
    {
     "name": "stdout",
     "output_type": "stream",
     "text": [
      "Defaulting to user installation because normal site-packages is not writeable\n",
      "Requirement already satisfied: deep-sort-realtime in /Users/karimelhusseini/Library/Python/3.12/lib/python/site-packages (1.3.2)\n",
      "Requirement already satisfied: numpy in /Library/Frameworks/Python.framework/Versions/3.12/lib/python3.12/site-packages (from deep-sort-realtime) (1.26.2)\n",
      "Requirement already satisfied: scipy in /Users/karimelhusseini/Library/Python/3.12/lib/python/site-packages (from deep-sort-realtime) (1.14.0)\n",
      "Requirement already satisfied: opencv-python in /Users/karimelhusseini/Library/Python/3.12/lib/python/site-packages (from deep-sort-realtime) (4.10.0.84)\n",
      "\u001b[33mWARNING: Error parsing dependencies of textract: .* suffix can only be used with `==` or `!=` operators\n",
      "    extract-msg (<=0.29.*)\n",
      "                 ~~~~~~~^\u001b[0m\u001b[33m\n",
      "\u001b[0m"
     ]
    }
   ],
   "source": [
    "!pip install deep-sort-realtime"
   ]
  },
  {
   "cell_type": "code",
   "execution_count": 52,
   "metadata": {},
   "outputs": [],
   "source": [
    "import os\n",
    "os.environ[\"KMP_DUPLICATE_LIB_OK\"]=\"TRUE\""
   ]
  },
  {
   "cell_type": "code",
   "execution_count": 53,
   "metadata": {},
   "outputs": [],
   "source": [
    "from deep_sort_realtime.deepsort_tracker import DeepSort\n",
    "\n",
    "#Initialise the object tracker class\n",
    "object_tracker = DeepSort()"
   ]
  },
  {
   "cell_type": "code",
   "execution_count": 54,
   "metadata": {},
   "outputs": [
    {
     "name": "stdout",
     "output_type": "stream",
     "text": [
      "invlid frame or video ended\n",
      "Video saved to /Users/karimelhusseini/Desktop/A5-ECSE415/task1.mp4\n"
     ]
    }
   ],
   "source": [
    "tracking_results_file = open('tracking_results.txt', 'w')\n",
    "frame_count = 1\n",
    "\n",
    "while cap.isOpened():\n",
    "    success, img = cap.read()\n",
    "    \n",
    "    if success or img is not None:\n",
    "\n",
    "        start = time.perf_counter()\n",
    "\n",
    "        results = detector.score_frame(img)\n",
    "        img,detections = detector.plot_boxes(results, img, height=img.shape[0], width=img.shape[1], confidence=0.1)\n",
    "\n",
    "        tracks = object_tracker.update_tracks(detections, frame=img) \n",
    "        # NOTE: Bounding box expects to be a list of detections, each in tuples of ([left, top, w, h], confidence, detection class)\n",
    "        \n",
    "        for track in tracks:\n",
    "            if not track.is_confirmed():\n",
    "                continue\n",
    "            track_id = track.track_id\n",
    "            ltrb = track.to_ltrb()\n",
    "\n",
    "            bbox = ltrb\n",
    "            bb_left = int(bbox[0])\n",
    "            bb_top = int(bbox[1])\n",
    "            bb_width = int(bbox[2] - bbox[0])\n",
    "            bb_height = int(bbox[3] - bbox[1])\n",
    "            \n",
    "            # Write tracking results to the text file\n",
    "            tracking_results_file.write(f\"{frame_count}, {track_id}, {bb_left}, {bb_top}, {bb_width}, {bb_height}\\n\")\n",
    "\n",
    "            cv2.rectangle(img, (int(bbox[0]),int(bbox[1])),(int(bbox[2]),int(bbox[3])),(0,0,255),2)\n",
    "            cv2.putText(img, \"ID: \" + str(track_id), (int(bbox[0]),int(bbox[1]-10)), cv2.FONT_HERSHEY_SIMPLEX, 1.5, (0,255,0), 2)\n",
    "\n",
    "        end = time.perf_counter()\n",
    "        totalTime = end-start\n",
    "        fps = 1/totalTime\n",
    "\n",
    "        cv2.putText(img, f'FPS: {int(fps)}', (20,70), cv2.FONT_HERSHEY_SIMPLEX, 1.5, (0,255,0), 2)\n",
    "        cv2.imshow('img', img)\n",
    "        \n",
    "        # Write the frame to the output video\n",
    "        out.write(img)\n",
    "        \n",
    "        frame_count += 1\n",
    "\n",
    "        if cv2.waitKey(1) & 0xFF == 27:\n",
    "            break\n",
    "    else:\n",
    "        print('invlid frame or video ended')\n",
    "        break\n",
    "\n",
    "tracking_results_file.close()\n",
    "\n",
    "cap.release()\n",
    "out.release()\n",
    "\n",
    "# Destroy all windows\n",
    "cv2.destroyAllWindows()\n",
    "cv2.waitKey(1)\n",
    "\n",
    "print(\"Video saved to\", path + \"task1.mp4\")"
   ]
  },
  {
   "cell_type": "markdown",
   "metadata": {},
   "source": [
    "# 3 Model Evaluation"
   ]
  },
  {
   "cell_type": "code",
   "execution_count": 55,
   "metadata": {},
   "outputs": [],
   "source": [
    "import numpy as np\n",
    "from scipy.optimize import linear_sum_assignment\n",
    "\n",
    "def read_data(file_path, has_confidence=False):\n",
    "    data = []\n",
    "    with open(file_path, 'r') as file:\n",
    "        for line in file:\n",
    "            parts = line.strip().split(',')\n",
    "            frame = int(parts[0])\n",
    "            while len(data) <= frame:\n",
    "                data.append([])\n",
    "            id = int(parts[1])\n",
    "            bb_left = int(parts[2])\n",
    "            bb_top = int(parts[3])\n",
    "            bb_width = int(parts[4])\n",
    "            bb_height = int(parts[5])\n",
    "            bbox = (bb_left, bb_top, bb_left + bb_width, bb_top + bb_height, id)\n",
    "            data[frame].append(bbox)\n",
    "    return data\n",
    "\n",
    "def iou(boxA, boxB):\n",
    "    xA = max(boxA[0], boxB[0])\n",
    "    yA = max(boxA[1], boxB[1])\n",
    "    xB = min(boxA[2], boxB[2])\n",
    "    yB = min(boxA[3], boxB[3])\n",
    "    interArea = max(0, xB - xA) * max(0, yB - yA)\n",
    "    boxAArea = (boxA[2] - boxA[0]) * (boxA[3] - boxA[1])\n",
    "    boxBArea = (boxB[2] - boxB[0]) * (boxB[3] - boxB[1])\n",
    "    iou = interArea / float(boxAArea + boxBArea - interArea)\n",
    "    return iou\n",
    "\n",
    "def mota_score(ground_truths, predictions):\n",
    "    total_gt = sum(len(gt) for gt in ground_truths)\n",
    "    total_false_negatives = 0\n",
    "    total_false_positives = 0\n",
    "    total_id_switches = 0\n",
    "    prev_frame_assignments = {}\n",
    "\n",
    "    for frame_index in range(min(len(ground_truths)-1, len(predictions)-1)):\n",
    "        gt_boxes = ground_truths[frame_index]\n",
    "        pred_boxes = predictions[frame_index]\n",
    "        iou_matrix = np.zeros((len(gt_boxes), len(pred_boxes)))\n",
    "\n",
    "        for i, gt in enumerate(gt_boxes):\n",
    "            for j, pred in enumerate(pred_boxes):\n",
    "                iou_matrix[i, j] = iou(gt, pred)\n",
    "\n",
    "        row_ind, col_ind = linear_sum_assignment(-iou_matrix)\n",
    "        matched_indices = set(zip(row_ind, col_ind))\n",
    "        frame_false_negatives = len(gt_boxes) - len(row_ind)\n",
    "        frame_false_positives = len(pred_boxes) - len(col_ind)\n",
    "        \n",
    "         # **Print frames with false positives**\n",
    "        if frame_false_positives > 0:\n",
    "            print(f\"False Positives Detected at Frame {frame_index}\")\n",
    "\n",
    "            # Optionally, list the false positive bounding boxes\n",
    "            matched_preds = set(col_ind)\n",
    "            for idx, pred in enumerate(pred_boxes):\n",
    "                if idx not in matched_preds:\n",
    "                    print(f\"\\tFalse Positive Bounding Box: {pred[:4]}, ID: {pred[4]}\")\n",
    "\n",
    "        frame_id_switches = 0\n",
    "        current_frame_assignments = {}\n",
    "        for r, c in matched_indices:\n",
    "            if iou_matrix[r, c] >= 0.5:  # Consider matching if IoU is above 0.5\n",
    "                current_id = pred_boxes[c][4]\n",
    "                gt_id = gt_boxes[r][4]\n",
    "                if gt_id in prev_frame_assignments and prev_frame_assignments[gt_id] != current_id:\n",
    "                    print(f\"Identity Switch Detected at Frame {frame_index}: GT ID {gt_id} changed from {prev_frame_assignments[gt_id]} to {current_id}\")\n",
    "                    frame_id_switches += 1\n",
    "                current_frame_assignments[gt_id] = current_id\n",
    "\n",
    "\n",
    "        total_false_negatives += frame_false_negatives\n",
    "        total_false_positives += frame_false_positives\n",
    "        total_id_switches += frame_id_switches\n",
    "        \n",
    "        prev_frame_assignments.update(current_frame_assignments)\n",
    "    \n",
    "    results_summary = {\n",
    "        'total_gt': total_gt,\n",
    "        'total_false_negatives': total_false_negatives,\n",
    "        'total_false_positives': total_false_positives,\n",
    "        'total_id_switches': total_id_switches\n",
    "    }\n",
    "\n",
    "    mota = 1 - (total_false_negatives + total_false_positives + total_id_switches) / total_gt\n",
    "    return mota, results_summary\n",
    "\n"
   ]
  },
  {
   "cell_type": "code",
   "execution_count": 56,
   "metadata": {},
   "outputs": [
    {
     "name": "stdout",
     "output_type": "stream",
     "text": [
      "Identity Switch Detected at Frame 205: GT ID 4 changed from 7 to 24\n",
      "Identity Switch Detected at Frame 231: GT ID 5 changed from 9 to 28\n",
      "False Positives Detected at Frame 271\n",
      "\tFalse Positive Bounding Box: (-177, 124, -62, 398), ID: 29\n",
      "False Positives Detected at Frame 272\n",
      "\tFalse Positive Bounding Box: (-185, 123, -68, 402), ID: 29\n",
      "False Positives Detected at Frame 273\n",
      "\tFalse Positive Bounding Box: (-192, 121, -73, 404), ID: 29\n",
      "False Positives Detected at Frame 274\n",
      "\tFalse Positive Bounding Box: (-200, 119, -79, 406), ID: 29\n",
      "False Positives Detected at Frame 275\n",
      "\tFalse Positive Bounding Box: (-207, 118, -84, 410), ID: 29\n",
      "False Positives Detected at Frame 276\n",
      "\tFalse Positive Bounding Box: (-215, 116, -91, 412), ID: 29\n",
      "False Positives Detected at Frame 277\n",
      "\tFalse Positive Bounding Box: (-222, 114, -96, 414), ID: 29\n",
      "Identity Switch Detected at Frame 317: GT ID 5 changed from 28 to 36\n",
      "MOTA Score: 0.33982114676486064\n",
      "Results Summary: {'total_gt': 1901, 'total_false_negatives': 1245, 'total_false_positives': 7, 'total_id_switches': 3}\n"
     ]
    }
   ],
   "source": [
    "# Example usage:\n",
    "ground_truths = read_data(path+'Tracking/Task1/gt/gt.txt', has_confidence=True)\n",
    "tracking_results = read_data(path+'tracking_results.txt')\n",
    "\n",
    "mota_score_result = mota_score(ground_truths, tracking_results)\n",
    "\n",
    "print(\"MOTA Score:\", mota_score_result[0])\n",
    "print(\"Results Summary:\", mota_score_result[1])"
   ]
  },
  {
   "cell_type": "markdown",
   "metadata": {},
   "source": [
    "# 4 Pedestrian Counting on Kaggle"
   ]
  },
  {
   "cell_type": "code",
   "execution_count": 57,
   "metadata": {},
   "outputs": [
    {
     "name": "stdout",
     "output_type": "stream",
     "text": [
      "Video saved to /Users/karimelhusseini/Desktop/A5-ECSE415/task2_input.mp4\n"
     ]
    }
   ],
   "source": [
    "frames_path = path + \"Tracking/Task2/images/\"\n",
    "\n",
    "# Convert frames to video\n",
    "frames_to_video(frames_path, path + \"task2_input.mp4\", 14)\n",
    "\n",
    "print(\"Video saved to\", path + \"task2_input.mp4\")"
   ]
  },
  {
   "cell_type": "code",
   "execution_count": 58,
   "metadata": {},
   "outputs": [],
   "source": [
    "cap = cv2.VideoCapture(path + \"task2_input.mp4\")\n",
    "\n",
    "frame_width = int(cap.get(cv2.CAP_PROP_FRAME_WIDTH))\n",
    "frame_height = int(cap.get(cv2.CAP_PROP_FRAME_HEIGHT))\n",
    "fps = int(cap.get(cv2.CAP_PROP_FPS))\n",
    "out = cv2.VideoWriter(path+'task2.mp4', cv2.VideoWriter_fourcc(*'mp4v'), fps, (frame_width, frame_height))"
   ]
  },
  {
   "cell_type": "code",
   "execution_count": 59,
   "metadata": {},
   "outputs": [
    {
     "name": "stdout",
     "output_type": "stream",
     "text": [
      "invlid frame or video ended\n",
      "Video saved to /Users/karimelhusseini/Desktop/A5-ECSE415/task2.mp4\n"
     ]
    }
   ],
   "source": [
    "tracking_results_file = open('tracking_results_task2.txt', 'w')\n",
    "frame_count = 1\n",
    "\n",
    "while cap.isOpened():\n",
    "    success, img = cap.read()\n",
    "    \n",
    "    if success or img is not None:\n",
    "\n",
    "        start = time.perf_counter()\n",
    "\n",
    "        results = detector.score_frame(img)\n",
    "        img,detections = detector.plot_boxes(results, img, height=img.shape[0], width=img.shape[1], confidence=0.1)\n",
    "\n",
    "        tracks = object_tracker.update_tracks(detections, frame=img) \n",
    "        # NOTE: Bounding box expects to be a list of detections, each in tuples of ([left, top, w, h], confidence, detection class)\n",
    "        \n",
    "        if len(tracks) == 0:\n",
    "            print('No tracks detected for frame', frame_count)\n",
    "        \n",
    "        for track in tracks:\n",
    "            if not track.is_confirmed():\n",
    "                continue\n",
    "            track_id = track.track_id\n",
    "            ltrb = track.to_ltrb()\n",
    "\n",
    "            bbox = ltrb\n",
    "            bb_left = int(bbox[0])\n",
    "            bb_top = int(bbox[1])\n",
    "            bb_width = int(bbox[2] - bbox[0])\n",
    "            bb_height = int(bbox[3] - bbox[1])\n",
    "            \n",
    "            # Write tracking results to the text file\n",
    "            tracking_results_file.write(f\"{frame_count}, {track_id}, {bb_left}, {bb_top}, {bb_width}, {bb_height}\\n\")\n",
    "\n",
    "            cv2.rectangle(img, (int(bbox[0]),int(bbox[1])),(int(bbox[2]),int(bbox[3])),(0,0,255),2)\n",
    "            cv2.putText(img, \"ID: \" + str(track_id), (int(bbox[0]),int(bbox[1]-10)), cv2.FONT_HERSHEY_SIMPLEX, 1.5, (0,255,0), 2)\n",
    "\n",
    "        end = time.perf_counter()\n",
    "        totalTime = end-start\n",
    "        fps = 1/totalTime\n",
    "\n",
    "        cv2.putText(img, f'FPS: {int(fps)}', (20,70), cv2.FONT_HERSHEY_SIMPLEX, 1.5, (0,255,0), 2)\n",
    "        cv2.imshow('img', img)\n",
    "        \n",
    "        # Write the frame to the output video\n",
    "        out.write(img)\n",
    "        \n",
    "        frame_count += 1\n",
    "\n",
    "        if cv2.waitKey(1) & 0xFF == 27:\n",
    "            break\n",
    "    else:\n",
    "        print('invlid frame or video ended')\n",
    "        break\n",
    "\n",
    "tracking_results_file.close()\n",
    "\n",
    "cap.release()\n",
    "out.release()\n",
    "\n",
    "# Destroy all windows\n",
    "cv2.destroyAllWindows()\n",
    "cv2.waitKey(1)\n",
    "\n",
    "print(\"Video saved to\", path + \"task2.mp4\")"
   ]
  },
  {
   "cell_type": "markdown",
   "metadata": {},
   "source": [
    "### Counting the number of boxes in each frame, to estimate the number of pedestrians per frame"
   ]
  },
  {
   "cell_type": "code",
   "execution_count": 62,
   "metadata": {},
   "outputs": [
    {
     "name": "stdout",
     "output_type": "stream",
     "text": [
      "Pedestrian counts saved to task2_count.csv\n"
     ]
    }
   ],
   "source": [
    "import csv\n",
    "\n",
    "def count_bboxes_per_frame(data):\n",
    "    bbox_counts = {}\n",
    "    for frame_index, bboxes in enumerate(data):\n",
    "        # Count the number of bounding boxes in the current frame\n",
    "        if frame_index != 0:\n",
    "            bbox_count = len(bboxes)\n",
    "            bbox_counts[frame_index] = bbox_count\n",
    "    return bbox_counts\n",
    "\n",
    "task2_tracking_results = read_data(path+'tracking_results_task2.txt')\n",
    "pedestrian_counts = count_bboxes_per_frame(task2_tracking_results)\n",
    "\n",
    "with open('task2_count.csv', 'w', newline='') as csvfile:\n",
    "    fieldnames = ['Number', 'Count']\n",
    "    writer = csv.DictWriter(csvfile, fieldnames=fieldnames)\n",
    "\n",
    "    writer.writeheader()\n",
    "    for key, value in pedestrian_counts.items():\n",
    "        \n",
    "        writer.writerow({'Number': key, 'Count': value})\n",
    "        \n",
    "print(\"Pedestrian counts saved to task2_count.csv\")"
   ]
  }
 ],
 "metadata": {
  "kernelspec": {
   "display_name": "Python 3",
   "language": "python",
   "name": "python3"
  },
  "language_info": {
   "codemirror_mode": {
    "name": "ipython",
    "version": 3
   },
   "file_extension": ".py",
   "mimetype": "text/x-python",
   "name": "python",
   "nbconvert_exporter": "python",
   "pygments_lexer": "ipython3",
   "version": "3.12.0"
  }
 },
 "nbformat": 4,
 "nbformat_minor": 2
}
